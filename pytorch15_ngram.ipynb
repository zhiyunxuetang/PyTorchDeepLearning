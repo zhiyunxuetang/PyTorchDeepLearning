{
 "cells": [
  {
   "cell_type": "markdown",
   "metadata": {},
   "source": [
    "# PyTorch Embedding"
   ]
  },
  {
   "cell_type": "code",
   "execution_count": 1,
   "metadata": {},
   "outputs": [],
   "source": [
    "import torch\n",
    "from torch import nn\n",
    "import torch.nn.functional as F\n",
    "from torch.autograd import Variable"
   ]
  },
  {
   "cell_type": "code",
   "execution_count": 2,
   "metadata": {},
   "outputs": [],
   "source": [
    "# 词嵌入调用 torch.nn.Embedding(m, n) 就可以了，\n",
    "# m 表示单词的总数目，n 表示词嵌入的维度，\n",
    "# 其实词嵌入就相当于是一个大矩阵，矩阵的每一行表示一个单词\n",
    "embeds = nn.Embedding(2, 5) # 2 个单词，维度 5"
   ]
  },
  {
   "cell_type": "code",
   "execution_count": 3,
   "metadata": {},
   "outputs": [
    {
     "data": {
      "text/plain": [
       "Parameter containing:\n",
       " 0.4225 -0.0938 -0.7500 -0.0262 -0.4031\n",
       "-1.1038  0.5376 -0.7610 -0.3041 -0.2923\n",
       "[torch.FloatTensor of size 2x5]"
      ]
     },
     "execution_count": 3,
     "metadata": {},
     "output_type": "execute_result"
    }
   ],
   "source": [
    "# 通过 weight 得到了整个词嵌入的矩阵，\n",
    "# 这个矩阵是一个可以改变的 parameter，在网络的训练中会不断更新，\n",
    "# 同时词嵌入的数值可以直接进行修改，比如我们可以读入一个预训练好的词嵌入\n",
    "embeds.weight"
   ]
  },
  {
   "cell_type": "code",
   "execution_count": 4,
   "metadata": {},
   "outputs": [
    {
     "data": {
      "text/plain": [
       "Parameter containing:\n",
       " 1  1  1  1  1\n",
       " 1  1  1  1  1\n",
       "[torch.FloatTensor of size 2x5]"
      ]
     },
     "execution_count": 4,
     "metadata": {},
     "output_type": "execute_result"
    }
   ],
   "source": [
    "# 直接手动修改词嵌入的值\n",
    "embeds.weight.data = torch.ones(2, 5)\n",
    "embeds.weight"
   ]
  },
  {
   "cell_type": "code",
   "execution_count": 5,
   "metadata": {},
   "outputs": [],
   "source": [
    "# 访问第 50 个词的词向量\n",
    "embeds = nn.Embedding(100, 10)\n",
    "single_word_embed = embeds(Variable(torch.LongTensor([50])))"
   ]
  },
  {
   "cell_type": "code",
   "execution_count": 6,
   "metadata": {},
   "outputs": [
    {
     "data": {
      "text/plain": [
       "Variable containing:\n",
       " 0.1141  0.1282  0.9838 -0.0017 -1.0133  0.3654  0.1225  0.0286 -0.5818 -1.5523\n",
       "[torch.FloatTensor of size 1x10]"
      ]
     },
     "execution_count": 6,
     "metadata": {},
     "output_type": "execute_result"
    }
   ],
   "source": [
    "single_word_embed"
   ]
  },
  {
   "cell_type": "markdown",
   "metadata": {},
   "source": [
    "## 数据集"
   ]
  },
  {
   "cell_type": "code",
   "execution_count": 7,
   "metadata": {},
   "outputs": [],
   "source": [
    "# CONTEXT_SIZE 表示由前面几个单词来预测这个单词\n",
    "CONTEXT_SIZE = 2 # 依据的单词数\n",
    "# EMBEDDING_DIM 表示词嵌入的维度。\n",
    "EMBEDDING_DIM = 10 # 词向量的维度\n",
    "\n",
    "# 使用莎士比亚的诗\n",
    "test_sentence = \"\"\"When forty winters shall besiege thy brow,\n",
    "And dig deep trenches in thy beauty's field,\n",
    "Thy youth's proud livery so gazed on now,\n",
    "Will be a totter'd weed of small worth held:\n",
    "Then being asked, where all thy beauty lies,\n",
    "Where all the treasure of thy lusty days;\n",
    "To say, within thine own deep sunken eyes,\n",
    "Were an all-eating shame, and thriftless praise.\n",
    "How much more praise deserv'd thy beauty's use,\n",
    "If thou couldst answer 'This fair child of mine\n",
    "Shall sum my count, and make my old excuse,'\n",
    "Proving his beauty by succession thine!\n",
    "This were to be new made when thou art old,\n",
    "And see thy blood warm when thou feel'st it cold.\"\"\".split()"
   ]
  },
  {
   "cell_type": "code",
   "execution_count": 8,
   "metadata": {},
   "outputs": [
    {
     "data": {
      "text/plain": [
       "113"
      ]
     },
     "execution_count": 8,
     "metadata": {},
     "output_type": "execute_result"
    }
   ],
   "source": [
    "# 建立训练集，将单词三个分组，前面两个作为输入，最后一个作为预测的结果。\n",
    "trigram = [((test_sentence[i], test_sentence[i+1]), test_sentence[i+2]) \n",
    "            for i in range(len(test_sentence)-2)]\n",
    "\n",
    "# 总的数据量\n",
    "len(trigram)"
   ]
  },
  {
   "cell_type": "code",
   "execution_count": 9,
   "metadata": {},
   "outputs": [
    {
     "data": {
      "text/plain": [
       "(('When', 'forty'), 'winters')"
      ]
     },
     "execution_count": 9,
     "metadata": {},
     "output_type": "execute_result"
    }
   ],
   "source": [
    "# 取出第一个数据看看\n",
    "trigram[0]"
   ]
  },
  {
   "cell_type": "code",
   "execution_count": 10,
   "metadata": {},
   "outputs": [],
   "source": [
    "# 建立每个词与数字的编码，据此构建词嵌入\n",
    "vocb = set(test_sentence) # 使用 set 将重复的元素去掉\n",
    "word_to_idx = {word: i for i, word in enumerate(vocb)}\n",
    "idx_to_word = {word_to_idx[word]: word for word in word_to_idx}"
   ]
  },
  {
   "cell_type": "code",
   "execution_count": 11,
   "metadata": {},
   "outputs": [
    {
     "data": {
      "text/plain": [
       "{\"'This\": 59,\n",
       " 'And': 56,\n",
       " 'How': 58,\n",
       " 'If': 96,\n",
       " 'Proving': 5,\n",
       " 'Shall': 76,\n",
       " 'Then': 73,\n",
       " 'This': 30,\n",
       " 'Thy': 21,\n",
       " 'To': 70,\n",
       " 'Were': 31,\n",
       " 'When': 41,\n",
       " 'Where': 12,\n",
       " 'Will': 85,\n",
       " 'a': 89,\n",
       " 'all': 0,\n",
       " 'all-eating': 74,\n",
       " 'an': 54,\n",
       " 'and': 65,\n",
       " 'answer': 80,\n",
       " 'art': 42,\n",
       " 'asked,': 28,\n",
       " 'be': 27,\n",
       " 'beauty': 82,\n",
       " \"beauty's\": 52,\n",
       " 'being': 2,\n",
       " 'besiege': 83,\n",
       " 'blood': 87,\n",
       " 'brow,': 1,\n",
       " 'by': 33,\n",
       " 'child': 53,\n",
       " 'cold.': 92,\n",
       " 'couldst': 3,\n",
       " 'count,': 49,\n",
       " 'days;': 29,\n",
       " 'deep': 68,\n",
       " \"deserv'd\": 22,\n",
       " 'dig': 13,\n",
       " \"excuse,'\": 86,\n",
       " 'eyes,': 62,\n",
       " 'fair': 19,\n",
       " \"feel'st\": 45,\n",
       " 'field,': 7,\n",
       " 'forty': 25,\n",
       " 'gazed': 39,\n",
       " 'held:': 48,\n",
       " 'his': 9,\n",
       " 'in': 72,\n",
       " 'it': 50,\n",
       " 'lies,': 11,\n",
       " 'livery': 69,\n",
       " 'lusty': 81,\n",
       " 'made': 57,\n",
       " 'make': 77,\n",
       " 'mine': 67,\n",
       " 'more': 47,\n",
       " 'much': 46,\n",
       " 'my': 63,\n",
       " 'new': 26,\n",
       " 'now,': 43,\n",
       " 'of': 36,\n",
       " 'old': 18,\n",
       " 'old,': 64,\n",
       " 'on': 34,\n",
       " 'own': 38,\n",
       " 'praise': 60,\n",
       " 'praise.': 16,\n",
       " 'proud': 91,\n",
       " 'say,': 32,\n",
       " 'see': 20,\n",
       " 'shall': 24,\n",
       " 'shame,': 71,\n",
       " 'small': 15,\n",
       " 'so': 94,\n",
       " 'succession': 14,\n",
       " 'sum': 23,\n",
       " 'sunken': 75,\n",
       " 'the': 95,\n",
       " 'thine': 37,\n",
       " 'thine!': 10,\n",
       " 'thou': 35,\n",
       " 'thriftless': 79,\n",
       " 'thy': 90,\n",
       " 'to': 6,\n",
       " \"totter'd\": 93,\n",
       " 'treasure': 4,\n",
       " 'trenches': 44,\n",
       " 'use,': 66,\n",
       " 'warm': 51,\n",
       " 'weed': 84,\n",
       " 'were': 61,\n",
       " 'when': 78,\n",
       " 'where': 17,\n",
       " 'winters': 88,\n",
       " 'within': 40,\n",
       " 'worth': 8,\n",
       " \"youth's\": 55}"
      ]
     },
     "execution_count": 11,
     "metadata": {},
     "output_type": "execute_result"
    }
   ],
   "source": [
    "word_to_idx"
   ]
  },
  {
   "cell_type": "code",
   "execution_count": 12,
   "metadata": {},
   "outputs": [
    {
     "data": {
      "text/plain": [
       "{0: 'all',\n",
       " 1: 'brow,',\n",
       " 2: 'being',\n",
       " 3: 'couldst',\n",
       " 4: 'treasure',\n",
       " 5: 'Proving',\n",
       " 6: 'to',\n",
       " 7: 'field,',\n",
       " 8: 'worth',\n",
       " 9: 'his',\n",
       " 10: 'thine!',\n",
       " 11: 'lies,',\n",
       " 12: 'Where',\n",
       " 13: 'dig',\n",
       " 14: 'succession',\n",
       " 15: 'small',\n",
       " 16: 'praise.',\n",
       " 17: 'where',\n",
       " 18: 'old',\n",
       " 19: 'fair',\n",
       " 20: 'see',\n",
       " 21: 'Thy',\n",
       " 22: \"deserv'd\",\n",
       " 23: 'sum',\n",
       " 24: 'shall',\n",
       " 25: 'forty',\n",
       " 26: 'new',\n",
       " 27: 'be',\n",
       " 28: 'asked,',\n",
       " 29: 'days;',\n",
       " 30: 'This',\n",
       " 31: 'Were',\n",
       " 32: 'say,',\n",
       " 33: 'by',\n",
       " 34: 'on',\n",
       " 35: 'thou',\n",
       " 36: 'of',\n",
       " 37: 'thine',\n",
       " 38: 'own',\n",
       " 39: 'gazed',\n",
       " 40: 'within',\n",
       " 41: 'When',\n",
       " 42: 'art',\n",
       " 43: 'now,',\n",
       " 44: 'trenches',\n",
       " 45: \"feel'st\",\n",
       " 46: 'much',\n",
       " 47: 'more',\n",
       " 48: 'held:',\n",
       " 49: 'count,',\n",
       " 50: 'it',\n",
       " 51: 'warm',\n",
       " 52: \"beauty's\",\n",
       " 53: 'child',\n",
       " 54: 'an',\n",
       " 55: \"youth's\",\n",
       " 56: 'And',\n",
       " 57: 'made',\n",
       " 58: 'How',\n",
       " 59: \"'This\",\n",
       " 60: 'praise',\n",
       " 61: 'were',\n",
       " 62: 'eyes,',\n",
       " 63: 'my',\n",
       " 64: 'old,',\n",
       " 65: 'and',\n",
       " 66: 'use,',\n",
       " 67: 'mine',\n",
       " 68: 'deep',\n",
       " 69: 'livery',\n",
       " 70: 'To',\n",
       " 71: 'shame,',\n",
       " 72: 'in',\n",
       " 73: 'Then',\n",
       " 74: 'all-eating',\n",
       " 75: 'sunken',\n",
       " 76: 'Shall',\n",
       " 77: 'make',\n",
       " 78: 'when',\n",
       " 79: 'thriftless',\n",
       " 80: 'answer',\n",
       " 81: 'lusty',\n",
       " 82: 'beauty',\n",
       " 83: 'besiege',\n",
       " 84: 'weed',\n",
       " 85: 'Will',\n",
       " 86: \"excuse,'\",\n",
       " 87: 'blood',\n",
       " 88: 'winters',\n",
       " 89: 'a',\n",
       " 90: 'thy',\n",
       " 91: 'proud',\n",
       " 92: 'cold.',\n",
       " 93: \"totter'd\",\n",
       " 94: 'so',\n",
       " 95: 'the',\n",
       " 96: 'If'}"
      ]
     },
     "execution_count": 12,
     "metadata": {},
     "output_type": "execute_result"
    }
   ],
   "source": [
    "idx_to_word"
   ]
  },
  {
   "cell_type": "markdown",
   "metadata": {},
   "source": [
    "## 定义N-Gram模型"
   ]
  },
  {
   "cell_type": "code",
   "execution_count": 13,
   "metadata": {},
   "outputs": [],
   "source": [
    "# 定义模型\n",
    "class n_gram(nn.Module):\n",
    "    def __init__(self, vocab_size, context_size=CONTEXT_SIZE, n_dim=EMBEDDING_DIM):\n",
    "        super(n_gram, self).__init__()\n",
    "        \n",
    "        self.embed = nn.Embedding(vocab_size, n_dim)\n",
    "        self.classify = nn.Sequential(\n",
    "            nn.Linear(context_size * n_dim, 128),\n",
    "            nn.ReLU(True),\n",
    "            nn.Linear(128, vocab_size)\n",
    "        )\n",
    "        \n",
    "    def forward(self, x):\n",
    "        voc_embed = self.embed(x) # 得到词嵌入\n",
    "        voc_embed = voc_embed.view(1, -1) # 将两个词向量拼在一起\n",
    "        out = self.classify(voc_embed)\n",
    "        return out"
   ]
  },
  {
   "cell_type": "markdown",
   "metadata": {},
   "source": [
    "## 训练模型"
   ]
  },
  {
   "cell_type": "code",
   "execution_count": 14,
   "metadata": {},
   "outputs": [],
   "source": [
    "# 最后输出是条件概率，相当于是一个分类问题，可以使用交叉熵来衡量误差\n",
    "net = n_gram(len(word_to_idx))\n",
    "\n",
    "criterion = nn.CrossEntropyLoss()\n",
    "optimizer = torch.optim.SGD(net.parameters(), lr=1e-2, weight_decay=1e-5)"
   ]
  },
  {
   "cell_type": "code",
   "execution_count": 15,
   "metadata": {},
   "outputs": [
    {
     "name": "stdout",
     "output_type": "stream",
     "text": [
      "epoch: 20, Loss: 0.749247\n",
      "epoch: 40, Loss: 0.139854\n",
      "epoch: 60, Loss: 0.090571\n",
      "epoch: 80, Loss: 0.073060\n",
      "epoch: 100, Loss: 0.063460\n"
     ]
    }
   ],
   "source": [
    "for e in range(100):\n",
    "    train_loss = 0\n",
    "    for word, label in trigram: # 使用前 100 个作为训练集\n",
    "        word = Variable(torch.LongTensor([word_to_idx[i] for i in word])) # 将两个词作为输入\n",
    "        label = Variable(torch.LongTensor([word_to_idx[label]]))\n",
    "        # 前向传播\n",
    "        out = net(word)\n",
    "        loss = criterion(out, label)\n",
    "        train_loss += loss.data[0]\n",
    "        # 反向传播\n",
    "        optimizer.zero_grad()\n",
    "        loss.backward()\n",
    "        optimizer.step()\n",
    "    if (e + 1) % 20 == 0:\n",
    "        print('epoch: {}, Loss: {:.6f}'.format(e + 1, train_loss / len(trigram)))"
   ]
  },
  {
   "cell_type": "markdown",
   "metadata": {},
   "source": [
    "## 进行测试"
   ]
  },
  {
   "cell_type": "code",
   "execution_count": 16,
   "metadata": {},
   "outputs": [
    {
     "name": "stdout",
     "output_type": "stream",
     "text": [
      "input: ('so', 'gazed')\n",
      "label: on\n",
      "()\n",
      "real word is on, predicted word is on\n"
     ]
    }
   ],
   "source": [
    "net = net.eval()\n",
    "\n",
    "# 测试一下结果\n",
    "word, label = trigram[19]\n",
    "print('input: {}'.format(word))\n",
    "print('label: {}'.format(label))\n",
    "print()\n",
    "word = Variable(torch.LongTensor([word_to_idx[i] for i in word]))\n",
    "out = net(word)\n",
    "pred_label_idx = out.max(1)[1].data[0]\n",
    "predict_word = idx_to_word[pred_label_idx]\n",
    "print('real word is {}, predicted word is {}'.format(label, predict_word))"
   ]
  },
  {
   "cell_type": "code",
   "execution_count": 17,
   "metadata": {},
   "outputs": [
    {
     "name": "stdout",
     "output_type": "stream",
     "text": [
      "input: (\"'This\", 'fair')\n",
      "label: child\n",
      "()\n",
      "real word is child, predicted word is child\n"
     ]
    }
   ],
   "source": [
    "word, label = trigram[75]\n",
    "print('input: {}'.format(word))\n",
    "print('label: {}'.format(label))\n",
    "print()\n",
    "word = Variable(torch.LongTensor([word_to_idx[i] for i in word]))\n",
    "out = net(word)\n",
    "pred_label_idx = out.max(1)[1].data[0]\n",
    "predict_word = idx_to_word[pred_label_idx]\n",
    "print('real word is {}, predicted word is {}'.format(label, predict_word))"
   ]
  }
 ],
 "metadata": {
  "kernelspec": {
   "display_name": "Python 2",
   "language": "python",
   "name": "python2"
  },
  "language_info": {
   "codemirror_mode": {
    "name": "ipython",
    "version": 2
   },
   "file_extension": ".py",
   "mimetype": "text/x-python",
   "name": "python",
   "nbconvert_exporter": "python",
   "pygments_lexer": "ipython2",
   "version": "2.7.10"
  }
 },
 "nbformat": 4,
 "nbformat_minor": 2
}
