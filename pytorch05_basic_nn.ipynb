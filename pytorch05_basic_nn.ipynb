{
 "cells": [
  {
   "cell_type": "markdown",
   "metadata": {},
   "source": [
    "# PyTorch基础的神经网络"
   ]
  },
  {
   "cell_type": "markdown",
   "metadata": {},
   "source": [
    "PyTorch实现神经网络，可以直接定义计算图，也可以通过Sequential和Module这两种方式实现"
   ]
  },
  {
   "cell_type": "code",
   "execution_count": 1,
   "metadata": {},
   "outputs": [],
   "source": [
    "import torch\n",
    "import numpy as np\n",
    "from torch import nn\n",
    "from torch.autograd import Variable\n",
    "import torch.nn.functional as F\n",
    "\n",
    "import matplotlib.pyplot as plt\n",
    "%matplotlib inline"
   ]
  },
  {
   "cell_type": "markdown",
   "metadata": {},
   "source": [
    "## 1 Sequential方式构建网络 "
   ]
  },
  {
   "cell_type": "code",
   "execution_count": 2,
   "metadata": {},
   "outputs": [],
   "source": [
    "# Sequential 实现感知器模型\n",
    "seq_net = nn.Sequential(\n",
    "    nn.Linear(10, 1), # PyTorch 中的线性层，wx + b\n",
    "    #nn.Tanh(),\n",
    "    #nn.Sigmoid()\n",
    "    nn.ReLU()\n",
    ")"
   ]
  },
  {
   "cell_type": "code",
   "execution_count": 3,
   "metadata": {},
   "outputs": [
    {
     "name": "stdout",
     "output_type": "stream",
     "text": [
      "Parameter containing:\n",
      " 0.0078 -0.3088 -0.2082 -0.1878 -0.1752  0.0058  0.2381 -0.1759  0.0472  0.2733\n",
      "[torch.FloatTensor of size 1x10]\n",
      "\n"
     ]
    }
   ],
   "source": [
    "w0 = seq_net[0].weight\n",
    "print(w0)"
   ]
  },
  {
   "cell_type": "code",
   "execution_count": 4,
   "metadata": {},
   "outputs": [],
   "source": [
    "# Sequential 实现多层感知器\n",
    "seq_net = nn.Sequential(\n",
    "    nn.Linear(3, 5), \n",
    "    nn.Tanh(),\n",
    "    nn.Linear(5, 5), \n",
    "    nn.Tanh(),\n",
    "    nn.Linear(5, 5), \n",
    "    nn.Tanh(),\n",
    "    nn.Linear(5, 1)\n",
    ")"
   ]
  },
  {
   "cell_type": "code",
   "execution_count": 5,
   "metadata": {},
   "outputs": [
    {
     "data": {
      "text/plain": [
       "Linear(in_features=3, out_features=5)"
      ]
     },
     "execution_count": 5,
     "metadata": {},
     "output_type": "execute_result"
    }
   ],
   "source": [
    "# 序列模块可以通过索引访问每一层\n",
    "\n",
    "seq_net[0] # 第一层"
   ]
  },
  {
   "cell_type": "code",
   "execution_count": 6,
   "metadata": {},
   "outputs": [
    {
     "name": "stdout",
     "output_type": "stream",
     "text": [
      "Parameter containing:\n",
      " 0.3463  0.1165  0.1723\n",
      " 0.1360  0.5471  0.1201\n",
      " 0.4564 -0.2405  0.4262\n",
      " 0.2911  0.4240  0.3968\n",
      " 0.1698  0.0742  0.1217\n",
      "[torch.FloatTensor of size 5x3]\n",
      "\n"
     ]
    }
   ],
   "source": [
    "# 打印出第一层的权重\n",
    "\n",
    "w0 = seq_net[0].weight\n",
    "print(w0)"
   ]
  },
  {
   "cell_type": "code",
   "execution_count": 7,
   "metadata": {},
   "outputs": [
    {
     "name": "stdout",
     "output_type": "stream",
     "text": [
      "Parameter containing:\n",
      "-0.1871  0.3705  0.1985  0.1991  0.2747\n",
      " 0.1674  0.0007 -0.4288 -0.4191  0.3472\n",
      "-0.0014  0.3323 -0.1023  0.0680 -0.1485\n",
      "-0.1783  0.0371 -0.3417 -0.3169 -0.0142\n",
      "-0.0958  0.0971  0.0363 -0.4168 -0.3189\n",
      "[torch.FloatTensor of size 5x5]\n",
      "\n"
     ]
    }
   ],
   "source": [
    "w2 = seq_net[2].weight\n",
    "print(w2)"
   ]
  },
  {
   "cell_type": "code",
   "execution_count": 8,
   "metadata": {},
   "outputs": [
    {
     "name": "stdout",
     "output_type": "stream",
     "text": [
      "Parameter containing:\n",
      "-0.2645 -0.4347  0.3349 -0.0560 -0.1670\n",
      " 0.2548  0.0192 -0.2832  0.4415  0.1045\n",
      " 0.0704 -0.3015  0.3710  0.0073  0.1018\n",
      " 0.0112  0.2247  0.0223  0.4304 -0.3112\n",
      " 0.1221 -0.3413  0.0872  0.1487 -0.2444\n",
      "[torch.FloatTensor of size 5x5]\n",
      "\n"
     ]
    }
   ],
   "source": [
    "w4 = seq_net[4].weight\n",
    "print(w4)"
   ]
  },
  {
   "cell_type": "code",
   "execution_count": 9,
   "metadata": {},
   "outputs": [
    {
     "name": "stdout",
     "output_type": "stream",
     "text": [
      "Parameter containing:\n",
      " 0.0985 -0.1613  0.3832  0.1263 -0.2239\n",
      "[torch.FloatTensor of size 1x5]\n",
      "\n"
     ]
    }
   ],
   "source": [
    "w6 = seq_net[6].weight\n",
    "print(w6)"
   ]
  },
  {
   "cell_type": "markdown",
   "metadata": {},
   "source": [
    "## 2 Module方式构建网络"
   ]
  },
  {
   "cell_type": "code",
   "execution_count": 10,
   "metadata": {},
   "outputs": [],
   "source": [
    "# Module实现多层感知器\n",
    "class module_net(nn.Module):\n",
    "    def __init__(self, num_input, num_hidden, num_output):\n",
    "        super(module_net, self).__init__()\n",
    "        self.layer0 = nn.Linear(num_input, num_hidden)\n",
    "        self.layer1 = nn.Tanh()\n",
    "        self.layer2 = nn.Linear(num_hidden, num_hidden)\n",
    "        self.layer3 = nn.Tanh()\n",
    "        self.layer4 = nn.Linear(num_hidden, num_hidden)\n",
    "        self.layer5 = nn.Tanh()\n",
    "        self.layer6 = nn.Linear(num_hidden, num_output)\n",
    "        \n",
    "    def forward(self, x):\n",
    "        x = self.layer0(x)\n",
    "        x = self.layer1(x)\n",
    "        x = self.layer2(x)\n",
    "        x = self.layer3(x)\n",
    "        x = self.layer4(x)\n",
    "        x = self.layer5(x)\n",
    "        x = self.layer6(x)\n",
    "        return x"
   ]
  },
  {
   "cell_type": "code",
   "execution_count": 11,
   "metadata": {},
   "outputs": [],
   "source": [
    "mo_net = module_net(3, 5, 1)"
   ]
  },
  {
   "cell_type": "code",
   "execution_count": 12,
   "metadata": {},
   "outputs": [
    {
     "name": "stdout",
     "output_type": "stream",
     "text": [
      "Linear(in_features=3, out_features=5)\n"
     ]
    }
   ],
   "source": [
    "# 访问模型中的某层可以直接通过名字\n",
    "\n",
    "# 第一层\n",
    "w0 = mo_net.layer0\n",
    "print(w0)"
   ]
  },
  {
   "cell_type": "code",
   "execution_count": 13,
   "metadata": {},
   "outputs": [
    {
     "name": "stdout",
     "output_type": "stream",
     "text": [
      "Parameter containing:\n",
      " 0.4627 -0.3294 -0.4896\n",
      " 0.0824 -0.0297 -0.2998\n",
      " 0.1473 -0.0720 -0.4867\n",
      "-0.5267 -0.3887  0.2535\n",
      " 0.4469 -0.3929 -0.3655\n",
      "[torch.FloatTensor of size 5x3]\n",
      "\n"
     ]
    }
   ],
   "source": [
    "# 打印出第一层的权重\n",
    "print(w0.weight)"
   ]
  },
  {
   "cell_type": "markdown",
   "metadata": {},
   "source": [
    "## 3 模型保存与读取"
   ]
  },
  {
   "cell_type": "code",
   "execution_count": 14,
   "metadata": {},
   "outputs": [
    {
     "name": "stderr",
     "output_type": "stream",
     "text": [
      "/Library/Python/2.7/site-packages/torch/serialization.py:158: UserWarning: Couldn't retrieve source code for container of type module_net. It won't be checked for correctness upon loading.\n",
      "  \"type \" + obj.__name__ + \". It won't be checked \"\n"
     ]
    }
   ],
   "source": [
    "# 将参数和模型保存在一起\n",
    "torch.save(mo_net, './save_mo_net.pth')"
   ]
  },
  {
   "cell_type": "code",
   "execution_count": 15,
   "metadata": {},
   "outputs": [],
   "source": [
    "# 读取保存的模型\n",
    "mo_net1 = torch.load('./save_mo_net.pth')"
   ]
  },
  {
   "cell_type": "code",
   "execution_count": null,
   "metadata": {},
   "outputs": [],
   "source": []
  }
 ],
 "metadata": {
  "kernelspec": {
   "display_name": "Python 2",
   "language": "python",
   "name": "python2"
  },
  "language_info": {
   "codemirror_mode": {
    "name": "ipython",
    "version": 2
   },
   "file_extension": ".py",
   "mimetype": "text/x-python",
   "name": "python",
   "nbconvert_exporter": "python",
   "pygments_lexer": "ipython2",
   "version": "2.7.10"
  }
 },
 "nbformat": 4,
 "nbformat_minor": 2
}
