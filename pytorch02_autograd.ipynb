{
 "cells": [
  {
   "cell_type": "markdown",
   "metadata": {},
   "source": [
    "# pytorch自动求导"
   ]
  },
  {
   "cell_type": "code",
   "execution_count": 1,
   "metadata": {},
   "outputs": [],
   "source": [
    "import torch\n",
    "import numpy as np\n",
    "from torch.autograd import Variable"
   ]
  },
  {
   "cell_type": "markdown",
   "metadata": {},
   "source": [
    "## Variable"
   ]
  },
  {
   "cell_type": "code",
   "execution_count": 2,
   "metadata": {},
   "outputs": [],
   "source": [
    "# 通过下面这种方式导入 Variable\n",
    "from torch.autograd import Variable"
   ]
  },
  {
   "cell_type": "code",
   "execution_count": 3,
   "metadata": {},
   "outputs": [],
   "source": [
    "x_tensor = torch.randn(10, 5)\n",
    "y_tensor = torch.randn(10, 5)\n",
    "\n",
    "# 将 tensor 变成 Variable\n",
    "x = Variable(x_tensor, requires_grad=True) # 默认 Variable 是不需要求梯度的，所以我们用这个方式申明需要对其进行求梯度\n",
    "y = Variable(y_tensor, requires_grad=True)"
   ]
  },
  {
   "cell_type": "code",
   "execution_count": 4,
   "metadata": {},
   "outputs": [],
   "source": [
    "z = torch.sum(x + y)"
   ]
  },
  {
   "cell_type": "code",
   "execution_count": 5,
   "metadata": {},
   "outputs": [
    {
     "name": "stdout",
     "output_type": "stream",
     "text": [
      "Variable containing:\n",
      " 26.5895\n",
      "[torch.FloatTensor of size 1]\n",
      "\n"
     ]
    }
   ],
   "source": [
    "print(z)"
   ]
  },
  {
   "cell_type": "markdown",
   "metadata": {},
   "source": [
    "上面我们打出了 z 中的 tensor 数值，同时通过grad_fn知道了其是通过 Sum 这种方式得到的"
   ]
  },
  {
   "cell_type": "code",
   "execution_count": 6,
   "metadata": {},
   "outputs": [
    {
     "name": "stdout",
     "output_type": "stream",
     "text": [
      "Variable containing:\n",
      "    1     1     1     1     1\n",
      "    1     1     1     1     1\n",
      "    1     1     1     1     1\n",
      "    1     1     1     1     1\n",
      "    1     1     1     1     1\n",
      "    1     1     1     1     1\n",
      "    1     1     1     1     1\n",
      "    1     1     1     1     1\n",
      "    1     1     1     1     1\n",
      "    1     1     1     1     1\n",
      "[torch.FloatTensor of size 10x5]\n",
      "\n",
      "Variable containing:\n",
      "    1     1     1     1     1\n",
      "    1     1     1     1     1\n",
      "    1     1     1     1     1\n",
      "    1     1     1     1     1\n",
      "    1     1     1     1     1\n",
      "    1     1     1     1     1\n",
      "    1     1     1     1     1\n",
      "    1     1     1     1     1\n",
      "    1     1     1     1     1\n",
      "    1     1     1     1     1\n",
      "[torch.FloatTensor of size 10x5]\n",
      "\n"
     ]
    }
   ],
   "source": [
    "# 求 x 和 y 的梯度\n",
    "z.backward()\n",
    "\n",
    "print(x.grad)\n",
    "print(y.grad)"
   ]
  },
  {
   "cell_type": "markdown",
   "metadata": {},
   "source": [
    "通过.grad我们得到了 x 和 y 的梯度，这里我们使用了 PyTorch 提供的自动求导机制"
   ]
  },
  {
   "cell_type": "markdown",
   "metadata": {},
   "source": [
    "## 自动求导小练习1"
   ]
  },
  {
   "cell_type": "markdown",
   "metadata": {},
   "source": [
    "尝试构建一个函数 $y = x^2 $，然后求 x=2 的导数。\n",
    "\n",
    "参考输出：4"
   ]
  },
  {
   "cell_type": "code",
   "execution_count": 7,
   "metadata": {},
   "outputs": [
    {
     "data": {
      "image/png": "[encoded data removed]",
      "text/plain": [
       "<matplotlib.figure.Figure at 0x1084154d0>"
      ]
     },
     "metadata": {},
     "output_type": "display_data"
    }
   ],
   "source": [
    "import matplotlib.pyplot as plt\n",
    "x = np.arange(-3, 3.01, 0.1)\n",
    "y = x ** 2\n",
    "plt.plot(x, y)\n",
    "plt.plot(2, 4, 'ro')\n",
    "plt.show()"
   ]
  },
  {
   "cell_type": "code",
   "execution_count": 8,
   "metadata": {},
   "outputs": [
    {
     "name": "stdout",
     "output_type": "stream",
     "text": [
      "Variable containing:\n",
      "-0.2000\n",
      "[torch.FloatTensor of size 1]\n",
      "\n"
     ]
    }
   ],
   "source": [
    "# 答案\n",
    "x = Variable(torch.FloatTensor([-0.1]), requires_grad=True)\n",
    "y = x ** 2\n",
    "y.backward()\n",
    "print(x.grad)"
   ]
  },
  {
   "cell_type": "markdown",
   "metadata": {},
   "source": [
    "## 自动求导小练习2"
   ]
  },
  {
   "cell_type": "code",
   "execution_count": 9,
   "metadata": {
    "scrolled": true
   },
   "outputs": [
    {
     "name": "stdout",
     "output_type": "stream",
     "text": [
      "Variable containing:\n",
      " 9.2500\n",
      "[torch.FloatTensor of size 1]\n",
      "\n"
     ]
    }
   ],
   "source": [
    "x = Variable(torch.Tensor([0.5]), requires_grad=True)\n",
    "y = x + 2\n",
    "z = y ** 2 + 3\n",
    "print(z)"
   ]
  },
  {
   "cell_type": "markdown",
   "metadata": {},
   "source": [
    "通过上面的一些列操作，我们从 x 得到了最后的结果out，我们可以将其表示为数学公式\n",
    "\n",
    "$$\n",
    "z = (x + 2)^2 + 3\n",
    "$$\n",
    "\n",
    "那么我们从 z 对 x 求导的结果就是 \n",
    "\n",
    "$$\n",
    "\\frac{\\partial z}{\\partial x} = 2 (x + 2) = 2 (2 + 2) = 8\n",
    "$$"
   ]
  },
  {
   "cell_type": "code",
   "execution_count": 10,
   "metadata": {},
   "outputs": [
    {
     "name": "stdout",
     "output_type": "stream",
     "text": [
      "Variable containing:\n",
      " 5\n",
      "[torch.FloatTensor of size 1]\n",
      "\n"
     ]
    }
   ],
   "source": [
    "# 使用自动求导\n",
    "z.backward()\n",
    "print(x.grad)"
   ]
  },
  {
   "cell_type": "markdown",
   "metadata": {},
   "source": [
    "## 自动求导小练习3"
   ]
  },
  {
   "cell_type": "code",
   "execution_count": 11,
   "metadata": {},
   "outputs": [],
   "source": [
    "x = Variable(torch.randn(10, 20), requires_grad=True)\n",
    "w = Variable(torch.randn(20, 5), requires_grad=True)\n",
    "y = Variable(torch.randn(10, 5), requires_grad=True)\n",
    "\n",
    "out = torch.mean(y - torch.matmul(x, w)) # torch.matmul 是做矩阵乘法\n",
    "out.backward()"
   ]
  },
  {
   "cell_type": "code",
   "execution_count": 12,
   "metadata": {},
   "outputs": [
    {
     "name": "stdout",
     "output_type": "stream",
     "text": [
      "Variable containing:\n",
      "\n",
      "Columns 0 to 9 \n",
      "1.00000e-02 *\n",
      " -3.1071  3.4431 -6.4533  0.6355 -5.4629  6.3851 -5.1077 -0.7437 -8.3512  2.9267\n",
      " -3.1071  3.4431 -6.4533  0.6355 -5.4629  6.3851 -5.1077 -0.7437 -8.3512  2.9267\n",
      " -3.1071  3.4431 -6.4533  0.6355 -5.4629  6.3851 -5.1077 -0.7437 -8.3512  2.9267\n",
      " -3.1071  3.4431 -6.4533  0.6355 -5.4629  6.3851 -5.1077 -0.7437 -8.3512  2.9267\n",
      " -3.1071  3.4431 -6.4533  0.6355 -5.4629  6.3851 -5.1077 -0.7437 -8.3512  2.9267\n",
      " -3.1071  3.4431 -6.4533  0.6355 -5.4629  6.3851 -5.1077 -0.7437 -8.3512  2.9267\n",
      " -3.1071  3.4431 -6.4533  0.6355 -5.4629  6.3851 -5.1077 -0.7437 -8.3512  2.9267\n",
      " -3.1071  3.4431 -6.4533  0.6355 -5.4629  6.3851 -5.1077 -0.7437 -8.3512  2.9267\n",
      " -3.1071  3.4431 -6.4533  0.6355 -5.4629  6.3851 -5.1077 -0.7437 -8.3512  2.9267\n",
      " -3.1071  3.4431 -6.4533  0.6355 -5.4629  6.3851 -5.1077 -0.7437 -8.3512  2.9267\n",
      "\n",
      "Columns 10 to 19 \n",
      "1.00000e-02 *\n",
      "  1.4607 -3.6433 -8.0926  1.8471  1.6326 -6.3616 -6.6073  2.7591  8.5558 -1.0111\n",
      "  1.4607 -3.6433 -8.0926  1.8471  1.6326 -6.3616 -6.6073  2.7591  8.5558 -1.0111\n",
      "  1.4607 -3.6433 -8.0926  1.8471  1.6326 -6.3616 -6.6073  2.7591  8.5558 -1.0111\n",
      "  1.4607 -3.6433 -8.0926  1.8471  1.6326 -6.3616 -6.6073  2.7591  8.5558 -1.0111\n",
      "  1.4607 -3.6433 -8.0926  1.8471  1.6326 -6.3616 -6.6073  2.7591  8.5558 -1.0111\n",
      "  1.4607 -3.6433 -8.0926  1.8471  1.6326 -6.3616 -6.6073  2.7591  8.5558 -1.0111\n",
      "  1.4607 -3.6433 -8.0926  1.8471  1.6326 -6.3616 -6.6073  2.7591  8.5558 -1.0111\n",
      "  1.4607 -3.6433 -8.0926  1.8471  1.6326 -6.3616 -6.6073  2.7591  8.5558 -1.0111\n",
      "  1.4607 -3.6433 -8.0926  1.8471  1.6326 -6.3616 -6.6073  2.7591  8.5558 -1.0111\n",
      "  1.4607 -3.6433 -8.0926  1.8471  1.6326 -6.3616 -6.6073  2.7591  8.5558 -1.0111\n",
      "[torch.FloatTensor of size 10x20]\n",
      "\n"
     ]
    }
   ],
   "source": [
    "# 得到 x 的梯度\n",
    "print(x.grad)"
   ]
  },
  {
   "cell_type": "code",
   "execution_count": 13,
   "metadata": {},
   "outputs": [
    {
     "name": "stdout",
     "output_type": "stream",
     "text": [
      "Variable containing:\n",
      "1.00000e-02 *\n",
      "  2.0000  2.0000  2.0000  2.0000  2.0000\n",
      "  2.0000  2.0000  2.0000  2.0000  2.0000\n",
      "  2.0000  2.0000  2.0000  2.0000  2.0000\n",
      "  2.0000  2.0000  2.0000  2.0000  2.0000\n",
      "  2.0000  2.0000  2.0000  2.0000  2.0000\n",
      "  2.0000  2.0000  2.0000  2.0000  2.0000\n",
      "  2.0000  2.0000  2.0000  2.0000  2.0000\n",
      "  2.0000  2.0000  2.0000  2.0000  2.0000\n",
      "  2.0000  2.0000  2.0000  2.0000  2.0000\n",
      "  2.0000  2.0000  2.0000  2.0000  2.0000\n",
      "[torch.FloatTensor of size 10x5]\n",
      "\n"
     ]
    }
   ],
   "source": [
    "# 得到 y 的的梯度\n",
    "print(y.grad)"
   ]
  },
  {
   "cell_type": "code",
   "execution_count": 14,
   "metadata": {},
   "outputs": [
    {
     "name": "stdout",
     "output_type": "stream",
     "text": [
      "Variable containing:\n",
      "-0.1445 -0.1445 -0.1445 -0.1445 -0.1445\n",
      "-0.0119 -0.0119 -0.0119 -0.0119 -0.0119\n",
      " 0.0579  0.0579  0.0579  0.0579  0.0579\n",
      " 0.0722  0.0722  0.0722  0.0722  0.0722\n",
      " 0.0389  0.0389  0.0389  0.0389  0.0389\n",
      "-0.0200 -0.0200 -0.0200 -0.0200 -0.0200\n",
      "-0.0697 -0.0697 -0.0697 -0.0697 -0.0697\n",
      "-0.0382 -0.0382 -0.0382 -0.0382 -0.0382\n",
      " 0.0302  0.0302  0.0302  0.0302  0.0302\n",
      "-0.1226 -0.1226 -0.1226 -0.1226 -0.1226\n",
      "-0.0114 -0.0114 -0.0114 -0.0114 -0.0114\n",
      "-0.0451 -0.0451 -0.0451 -0.0451 -0.0451\n",
      " 0.0299  0.0299  0.0299  0.0299  0.0299\n",
      "-0.0640 -0.0640 -0.0640 -0.0640 -0.0640\n",
      "-0.0089 -0.0089 -0.0089 -0.0089 -0.0089\n",
      "-0.0157 -0.0157 -0.0157 -0.0157 -0.0157\n",
      " 0.0464  0.0464  0.0464  0.0464  0.0464\n",
      "-0.0474 -0.0474 -0.0474 -0.0474 -0.0474\n",
      " 0.0091  0.0091  0.0091  0.0091  0.0091\n",
      " 0.0513  0.0513  0.0513  0.0513  0.0513\n",
      "[torch.FloatTensor of size 20x5]\n",
      "\n"
     ]
    }
   ],
   "source": [
    "# 得到 w 的梯度\n",
    "print(w.grad)"
   ]
  }
 ],
 "metadata": {
  "kernelspec": {
   "display_name": "Python 2",
   "language": "python",
   "name": "python2"
  },
  "language_info": {
   "codemirror_mode": {
    "name": "ipython",
    "version": 2
   },
   "file_extension": ".py",
   "mimetype": "text/x-python",
   "name": "python",
   "nbconvert_exporter": "python",
   "pygments_lexer": "ipython2",
   "version": "2.7.10"
  }
 },
 "nbformat": 4,
 "nbformat_minor": 2
}
